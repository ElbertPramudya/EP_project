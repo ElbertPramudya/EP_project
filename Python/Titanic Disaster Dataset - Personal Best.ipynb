{
 "cells": [
  {
   "cell_type": "code",
   "execution_count": 1,
   "id": "expensive-lesson",
   "metadata": {},
   "outputs": [],
   "source": [
    "import numpy as np\n",
    "import pandas as pd\n",
    "import seaborn as sns\n",
    "import matplotlib.pyplot as plt\n",
    "import os\n",
    "os.environ['CUDA_VISIBLE_DEVICES'] = \"-1\"\n",
    "\n",
    "pd.set_option('display.max_rows', None)\n",
    "pd.set_option('display.max_columns', None)"
   ]
  },
  {
   "cell_type": "code",
   "execution_count": 2,
   "id": "manufactured-compromise",
   "metadata": {},
   "outputs": [],
   "source": [
    "traindf = pd.read_csv('../DATA/titanic/train.csv')"
   ]
  },
  {
   "cell_type": "code",
   "execution_count": 3,
   "id": "gentle-wheat",
   "metadata": {},
   "outputs": [
    {
     "data": {
      "image/png": "[encoded data removed]",
      "text/plain": [
       "<Figure size 864x648 with 1 Axes>"
      ]
     },
     "metadata": {
      "needs_background": "light"
     },
     "output_type": "display_data"
    }
   ],
   "source": [
    "plt.figure(figsize=(12,9))\n",
    "sns.histplot(x='Age', data=traindf, bins=25, hue='Survived')\n",
    "plt.xticks(np.arange(0,85,5))\n",
    "plt.show()"
   ]
  },
  {
   "cell_type": "code",
   "execution_count": 4,
   "id": "cheap-bowling",
   "metadata": {},
   "outputs": [],
   "source": [
    "# Age Group shall be divided as follow:\n",
    "# Age <= 5\n",
    "# 5 < Age <=17\n",
    "# 17 < Age <=35\n",
    "# 35 < Age <=50\n",
    "# 50 < Age <=65\n",
    "# Age > 65"
   ]
  },
  {
   "cell_type": "code",
   "execution_count": 5,
   "id": "arranged-point",
   "metadata": {},
   "outputs": [],
   "source": [
    "# Extract title from full name\n",
    "traindf['Last_name'] = traindf['Name'].apply(lambda x: x.split(\",\")[0])\n",
    "traindf['First_name'] = traindf['Name'].apply(lambda x: x.split(\",\")[1])\n",
    "traindf['Title'] = traindf['First_name'].apply(lambda x: x.split(\".\")[0].strip())"
   ]
  },
  {
   "cell_type": "code",
   "execution_count": 11,
   "id": "removable-stable",
   "metadata": {},
   "outputs": [],
   "source": [
    "test = traindf['Name'].apply(lambda x: x.split(\",\"))"
   ]
  },
  {
   "cell_type": "code",
   "execution_count": 14,
   "id": "computational-drama",
   "metadata": {},
   "outputs": [
    {
     "data": {
      "text/plain": [
       "' Mr. Owen Harris'"
      ]
     },
     "execution_count": 14,
     "metadata": {},
     "output_type": "execute_result"
    }
   ],
   "source": [
    "test[0][1]"
   ]
  },
  {
   "cell_type": "code",
   "execution_count": 6,
   "id": "intimate-bruce",
   "metadata": {},
   "outputs": [],
   "source": [
    "def fill_age(pclass, title, age):\n",
    "    if pd.isnull(age):\n",
    "        if title == 'Mr':\n",
    "            if pclass == 1:\n",
    "                return 40\n",
    "            if pclass == 2:\n",
    "                return 31\n",
    "            if pclass ==3:\n",
    "                return 26\n",
    "        if title == 'Mrs':\n",
    "            if pclass == 1:\n",
    "                return 41.5\n",
    "            if pclass == 2:\n",
    "                return 32\n",
    "            if pclass == 3:\n",
    "                return 31\n",
    "        if ((title == 'Miss') | (title == 'Ms')):\n",
    "            if pclass == 1:\n",
    "                return 30\n",
    "            if pclass == 2:\n",
    "                return 24\n",
    "            if pclass == 3:\n",
    "                return 18\n",
    "        if title == 'Master':\n",
    "            return 3.5\n",
    "        if title == 'Dr':\n",
    "            if pclass == 1:\n",
    "                return 46.5\n",
    "            if pclass == 2:\n",
    "                return 38.5\n",
    "    else:\n",
    "        return age"
   ]
  },
  {
   "cell_type": "code",
   "execution_count": 7,
   "id": "accessible-flesh",
   "metadata": {},
   "outputs": [],
   "source": [
    "# Title group:\n",
    "# Nobleman -> Don, Jonkheer, Sir\n",
    "# Noblewoman -> Lady, the Countess\n",
    "# Mrs -> Mrs, Mme\n",
    "# Miss -> Miss, Mlle, Ms\n",
    "# Military -> Capt, Col, Major\n",
    "# Master -> Master\n",
    "# Mr -> Mr\n",
    "# Rev -> Rev\n",
    "# Dr -> Dr"
   ]
  },
  {
   "cell_type": "code",
   "execution_count": 8,
   "id": "auburn-anniversary",
   "metadata": {},
   "outputs": [],
   "source": [
    "def group_title(data):\n",
    "    if (data == 'Don') | (data == 'Jonkheer') | (data=='Sir'):\n",
    "        return 'Nobleman'\n",
    "    if (data == 'Lady') | (\"Countess\" in data) | (\"Dona\" in data):\n",
    "        return 'Noblewoman'\n",
    "    if (data == 'Mme'):\n",
    "        return 'Mrs'\n",
    "    if (data == 'Mlle') | (data=='Ms'):\n",
    "        return 'Miss'\n",
    "    if any(x in data for x in ['Capt', 'Col', 'Major']):\n",
    "        return 'Military'\n",
    "    else:\n",
    "        return data"
   ]
  },
  {
   "cell_type": "code",
   "execution_count": 9,
   "id": "public-mechanism",
   "metadata": {},
   "outputs": [],
   "source": [
    "traindf['Title_group'] = traindf.apply(lambda x: group_title(x['Title']), axis=1)"
   ]
  },
  {
   "cell_type": "code",
   "execution_count": 10,
   "id": "ordinary-america",
   "metadata": {},
   "outputs": [],
   "source": [
    "fillage = pd.DataFrame()\n",
    "fillage['Age'] = traindf.apply(lambda x: fill_age(x['Pclass'], x['Title'], x['Age']), axis=1)\n",
    "traindf['Age'] = fillage['Age']"
   ]
  },
  {
   "cell_type": "code",
   "execution_count": 11,
   "id": "split-senate",
   "metadata": {},
   "outputs": [
    {
     "data": {
      "text/plain": [
       "<AxesSubplot:>"
      ]
     },
     "execution_count": 11,
     "metadata": {},
     "output_type": "execute_result"
    },
    {
     "data": {
      "image/png": "[encoded data removed]",
      "text/plain": [
       "<Figure size 576x432 with 1 Axes>"
      ]
     },
     "metadata": {
      "needs_background": "light"
     },
     "output_type": "display_data"
    }
   ],
   "source": [
    "# Check filled data\n",
    "plt.figure(figsize=(8,6))\n",
    "sns.heatmap(traindf.isnull(), yticklabels=False, cbar=False, cmap='cividis')"
   ]
  },
  {
   "cell_type": "code",
   "execution_count": 12,
   "id": "eastern-jackson",
   "metadata": {},
   "outputs": [],
   "source": [
    "test_ticket = pd.read_csv('../DATA/titanic/test.csv')\n",
    "test_ticket = test_ticket[['PassengerId','Ticket']]\n",
    "train_ticket = traindf[['PassengerId','Ticket']]"
   ]
  },
  {
   "cell_type": "code",
   "execution_count": 13,
   "id": "willing-michigan",
   "metadata": {},
   "outputs": [],
   "source": [
    "tickets = pd.concat([train_ticket, test_ticket], axis=0)"
   ]
  },
  {
   "cell_type": "code",
   "execution_count": 14,
   "id": "innovative-solomon",
   "metadata": {},
   "outputs": [],
   "source": [
    "group_ticket = tickets.groupby('Ticket').count().reset_index()"
   ]
  },
  {
   "cell_type": "code",
   "execution_count": 15,
   "id": "prescription-brush",
   "metadata": {},
   "outputs": [],
   "source": [
    "group_ticket.columns = ['Ticket','Group_size']"
   ]
  },
  {
   "cell_type": "code",
   "execution_count": 16,
   "id": "noble-flower",
   "metadata": {},
   "outputs": [
    {
     "data": {
      "text/html": [
       "<div>\n",
       "<style scoped>\n",
       "    .dataframe tbody tr th:only-of-type {\n",
       "        vertical-align: middle;\n",
       "    }\n",
       "\n",
       "    .dataframe tbody tr th {\n",
       "        vertical-align: top;\n",
       "    }\n",
       "\n",
       "    .dataframe thead th {\n",
       "        text-align: right;\n",
       "    }\n",
       "</style>\n",
       "<table border=\"1\" class=\"dataframe\">\n",
       "  <thead>\n",
       "    <tr style=\"text-align: right;\">\n",
       "      <th></th>\n",
       "      <th>Ticket</th>\n",
       "      <th>Group_size</th>\n",
       "    </tr>\n",
       "  </thead>\n",
       "  <tbody>\n",
       "    <tr>\n",
       "      <th>0</th>\n",
       "      <td>110152</td>\n",
       "      <td>3</td>\n",
       "    </tr>\n",
       "    <tr>\n",
       "      <th>1</th>\n",
       "      <td>110413</td>\n",
       "      <td>3</td>\n",
       "    </tr>\n",
       "    <tr>\n",
       "      <th>2</th>\n",
       "      <td>110465</td>\n",
       "      <td>2</td>\n",
       "    </tr>\n",
       "    <tr>\n",
       "      <th>3</th>\n",
       "      <td>110469</td>\n",
       "      <td>1</td>\n",
       "    </tr>\n",
       "    <tr>\n",
       "      <th>4</th>\n",
       "      <td>110489</td>\n",
       "      <td>1</td>\n",
       "    </tr>\n",
       "    <tr>\n",
       "      <th>5</th>\n",
       "      <td>110564</td>\n",
       "      <td>1</td>\n",
       "    </tr>\n",
       "    <tr>\n",
       "      <th>6</th>\n",
       "      <td>110813</td>\n",
       "      <td>2</td>\n",
       "    </tr>\n",
       "    <tr>\n",
       "      <th>7</th>\n",
       "      <td>111163</td>\n",
       "      <td>1</td>\n",
       "    </tr>\n",
       "    <tr>\n",
       "      <th>8</th>\n",
       "      <td>111240</td>\n",
       "      <td>1</td>\n",
       "    </tr>\n",
       "    <tr>\n",
       "      <th>9</th>\n",
       "      <td>111320</td>\n",
       "      <td>1</td>\n",
       "    </tr>\n",
       "  </tbody>\n",
       "</table>\n",
       "</div>"
      ],
      "text/plain": [
       "   Ticket  Group_size\n",
       "0  110152           3\n",
       "1  110413           3\n",
       "2  110465           2\n",
       "3  110469           1\n",
       "4  110489           1\n",
       "5  110564           1\n",
       "6  110813           2\n",
       "7  111163           1\n",
       "8  111240           1\n",
       "9  111320           1"
      ]
     },
     "execution_count": 16,
     "metadata": {},
     "output_type": "execute_result"
    }
   ],
   "source": [
    "group_ticket.head(10)"
   ]
  },
  {
   "cell_type": "code",
   "execution_count": 17,
   "id": "resistant-monday",
   "metadata": {},
   "outputs": [],
   "source": [
    "#group_ticket['Single_ticket'] = group_ticket.apply(lambda df: 1 if df['Name'] == 1 else 0, axis=1)"
   ]
  },
  {
   "cell_type": "code",
   "execution_count": 18,
   "id": "forward-paris",
   "metadata": {},
   "outputs": [],
   "source": [
    "traindf = pd.merge(traindf, group_ticket[['Ticket', 'Group_size']], how='inner', on='Ticket')"
   ]
  },
  {
   "cell_type": "code",
   "execution_count": 19,
   "id": "advance-google",
   "metadata": {},
   "outputs": [],
   "source": [
    "traindf['Family_size'] = 1 + traindf['SibSp'] + traindf['Parch']"
   ]
  },
  {
   "cell_type": "code",
   "execution_count": 20,
   "id": "motivated-massachusetts",
   "metadata": {},
   "outputs": [],
   "source": [
    "# Passenger ID is equal to index. Drop PassengerId\n",
    "traindf = traindf.drop('PassengerId', axis=1)\n",
    "\n",
    "# Drop cabin column\n",
    "traindf = traindf.drop('Cabin', axis=1)\n",
    "\n",
    "# Drop last name, first name, name, title\n",
    "traindf = traindf.drop(['Last_name','First_name','Name','Title','Ticket','Group_size','Family_size'],axis=1)\n",
    "\n",
    "traindf = traindf.fillna('S')"
   ]
  },
  {
   "cell_type": "code",
   "execution_count": 21,
   "id": "metric-inspection",
   "metadata": {},
   "outputs": [
    {
     "name": "stdout",
     "output_type": "stream",
     "text": [
      "<class 'pandas.core.frame.DataFrame'>\n",
      "Int64Index: 891 entries, 0 to 890\n",
      "Data columns (total 9 columns):\n",
      " #   Column       Non-Null Count  Dtype  \n",
      "---  ------       --------------  -----  \n",
      " 0   Survived     891 non-null    int64  \n",
      " 1   Pclass       891 non-null    int64  \n",
      " 2   Sex          891 non-null    object \n",
      " 3   Age          891 non-null    float64\n",
      " 4   SibSp        891 non-null    int64  \n",
      " 5   Parch        891 non-null    int64  \n",
      " 6   Fare         891 non-null    float64\n",
      " 7   Embarked     891 non-null    object \n",
      " 8   Title_group  891 non-null    object \n",
      "dtypes: float64(2), int64(4), object(3)\n",
      "memory usage: 69.6+ KB\n"
     ]
    }
   ],
   "source": [
    "traindf.info()"
   ]
  },
  {
   "cell_type": "code",
   "execution_count": 22,
   "id": "necessary-configuration",
   "metadata": {},
   "outputs": [],
   "source": [
    "traindf = pd.get_dummies(traindf, columns=['Sex','Embarked', 'Title_group','Pclass'], drop_first=True)"
   ]
  },
  {
   "cell_type": "code",
   "execution_count": 23,
   "id": "sustained-sociology",
   "metadata": {},
   "outputs": [],
   "source": [
    "# train test split\n",
    "from sklearn.model_selection import train_test_split"
   ]
  },
  {
   "cell_type": "code",
   "execution_count": 24,
   "id": "existing-finding",
   "metadata": {},
   "outputs": [],
   "source": [
    "X = traindf.drop('Survived',axis=1)\n",
    "y = traindf['Survived']\n",
    "\n",
    "X_train, X_test, y_train, y_test = train_test_split(X, y, test_size=0.3, random_state=4821)"
   ]
  },
  {
   "cell_type": "code",
   "execution_count": 25,
   "id": "powered-pepper",
   "metadata": {},
   "outputs": [],
   "source": [
    "from sklearn.preprocessing import MinMaxScaler\n",
    "scaler = MinMaxScaler()"
   ]
  },
  {
   "cell_type": "code",
   "execution_count": 26,
   "id": "blind-training",
   "metadata": {},
   "outputs": [
    {
     "data": {
      "text/plain": [
       "MinMaxScaler()"
      ]
     },
     "execution_count": 26,
     "metadata": {},
     "output_type": "execute_result"
    }
   ],
   "source": [
    "scale_features = ['Age', 'Fare', 'SibSp', 'Parch']\n",
    "scaler.fit(X_train[scale_features])"
   ]
  },
  {
   "cell_type": "code",
   "execution_count": 27,
   "id": "interested-forward",
   "metadata": {},
   "outputs": [],
   "source": [
    "X_train_ss = scaler.transform(X_train[scale_features])"
   ]
  },
  {
   "cell_type": "code",
   "execution_count": 28,
   "id": "clean-crest",
   "metadata": {},
   "outputs": [],
   "source": [
    "X_train_ss = pd.DataFrame(X_train_ss, columns = scale_features, index=X_train.index)"
   ]
  },
  {
   "cell_type": "code",
   "execution_count": 29,
   "id": "primary-trailer",
   "metadata": {},
   "outputs": [],
   "source": [
    "X_train = pd.concat([X_train_ss, X_train.drop(scale_features, axis=1)], axis=1)"
   ]
  },
  {
   "cell_type": "code",
   "execution_count": 30,
   "id": "insured-glasgow",
   "metadata": {},
   "outputs": [],
   "source": [
    "X_test_ss = scaler.transform(X_test[scale_features])\n",
    "X_test_ss = pd.DataFrame(X_test_ss, columns=scale_features, index=X_test.index)\n",
    "X_test = pd.concat([X_test_ss, X_test.drop(scale_features,axis=1)],axis=1)"
   ]
  },
  {
   "cell_type": "code",
   "execution_count": 31,
   "id": "working-description",
   "metadata": {},
   "outputs": [],
   "source": [
    "from sklearn.linear_model import LogisticRegression"
   ]
  },
  {
   "cell_type": "code",
   "execution_count": 32,
   "id": "possible-classic",
   "metadata": {},
   "outputs": [
    {
     "data": {
      "text/plain": [
       "0.832089552238806"
      ]
     },
     "execution_count": 32,
     "metadata": {},
     "output_type": "execute_result"
    }
   ],
   "source": [
    "lrmodel = LogisticRegression(max_iter=10000)\n",
    "lrmodel.fit(X_train, y_train)\n",
    "lrmodel.score(X_test, y_test)"
   ]
  },
  {
   "cell_type": "code",
   "execution_count": 33,
   "id": "charming-nurse",
   "metadata": {},
   "outputs": [],
   "source": [
    "lr_preds = lrmodel.predict(X_test)"
   ]
  },
  {
   "cell_type": "code",
   "execution_count": 34,
   "id": "capable-rental",
   "metadata": {},
   "outputs": [],
   "source": [
    "from sklearn.metrics import classification_report, confusion_matrix"
   ]
  },
  {
   "cell_type": "code",
   "execution_count": 35,
   "id": "varying-treasurer",
   "metadata": {},
   "outputs": [],
   "source": [
    "from sklearn.ensemble import RandomForestClassifier\n",
    "rfmodel = RandomForestClassifier(n_estimators=128)"
   ]
  },
  {
   "cell_type": "code",
   "execution_count": 36,
   "id": "increasing-buyer",
   "metadata": {},
   "outputs": [
    {
     "data": {
      "text/plain": [
       "0.7910447761194029"
      ]
     },
     "execution_count": 36,
     "metadata": {},
     "output_type": "execute_result"
    }
   ],
   "source": [
    "rfmodel.fit(X_train, y_train)\n",
    "rfmodel.score(X_test, y_test)"
   ]
  },
  {
   "cell_type": "code",
   "execution_count": 37,
   "id": "indie-copying",
   "metadata": {},
   "outputs": [],
   "source": [
    "rf_preds = rfmodel.predict(X_test)"
   ]
  },
  {
   "cell_type": "code",
   "execution_count": 38,
   "id": "described-addiction",
   "metadata": {},
   "outputs": [],
   "source": [
    "from sklearn.svm import SVC"
   ]
  },
  {
   "cell_type": "code",
   "execution_count": 39,
   "id": "double-quantity",
   "metadata": {},
   "outputs": [],
   "source": [
    "svmodel = SVC()"
   ]
  },
  {
   "cell_type": "code",
   "execution_count": 40,
   "id": "foster-hygiene",
   "metadata": {},
   "outputs": [],
   "source": [
    "svmodel.fit(X_train, y_train)\n",
    "svm_preds = svmodel.predict(X_test)"
   ]
  },
  {
   "cell_type": "code",
   "execution_count": 41,
   "id": "assumed-arcade",
   "metadata": {},
   "outputs": [
    {
     "data": {
      "text/plain": [
       "0.835820895522388"
      ]
     },
     "execution_count": 41,
     "metadata": {},
     "output_type": "execute_result"
    }
   ],
   "source": [
    "svmodel.score(X_test, y_test)"
   ]
  },
  {
   "cell_type": "code",
   "execution_count": 42,
   "id": "motivated-absence",
   "metadata": {},
   "outputs": [],
   "source": [
    "from sklearn.model_selection import GridSearchCV"
   ]
  },
  {
   "cell_type": "code",
   "execution_count": 43,
   "id": "casual-summit",
   "metadata": {},
   "outputs": [],
   "source": [
    "param_grid = {'C': [0.01, 0.1, 1, 10, 5, 15], 'gamma': [1, 0.1, 0.01, 0.001, 0.0001, 5]}\n",
    "gs = GridSearchCV(SVC(), param_grid=param_grid, verbose=3)"
   ]
  },
  {
   "cell_type": "code",
   "execution_count": 44,
   "id": "southwest-dallas",
   "metadata": {},
   "outputs": [
    {
     "name": "stdout",
     "output_type": "stream",
     "text": [
      "Fitting 5 folds for each of 36 candidates, totalling 180 fits\n",
      "[CV 1/5] END ................................C=0.01, gamma=1; total time=   0.0s\n",
      "[CV 2/5] END ................................C=0.01, gamma=1; total time=   0.0s\n",
      "[CV 3/5] END ................................C=0.01, gamma=1; total time=   0.0s\n",
      "[CV 4/5] END ................................C=0.01, gamma=1; total time=   0.0s\n",
      "[CV 5/5] END ................................C=0.01, gamma=1; total time=   0.0s\n",
      "[CV 1/5] END ..............................C=0.01, gamma=0.1; total time=   0.0s\n",
      "[CV 2/5] END ..............................C=0.01, gamma=0.1; total time=   0.0s\n",
      "[CV 3/5] END ..............................C=0.01, gamma=0.1; total time=   0.0s\n",
      "[CV 4/5] END ..............................C=0.01, gamma=0.1; total time=   0.0s\n",
      "[CV 5/5] END ..............................C=0.01, gamma=0.1; total time=   0.0s\n",
      "[CV 1/5] END .............................C=0.01, gamma=0.01; total time=   0.0s\n",
      "[CV 2/5] END .............................C=0.01, gamma=0.01; total time=   0.0s\n",
      "[CV 3/5] END .............................C=0.01, gamma=0.01; total time=   0.0s\n",
      "[CV 4/5] END .............................C=0.01, gamma=0.01; total time=   0.0s\n",
      "[CV 5/5] END .............................C=0.01, gamma=0.01; total time=   0.0s\n",
      "[CV 1/5] END ............................C=0.01, gamma=0.001; total time=   0.0s\n",
      "[CV 2/5] END ............................C=0.01, gamma=0.001; total time=   0.0s\n",
      "[CV 3/5] END ............................C=0.01, gamma=0.001; total time=   0.0s\n",
      "[CV 4/5] END ............................C=0.01, gamma=0.001; total time=   0.0s\n",
      "[CV 5/5] END ............................C=0.01, gamma=0.001; total time=   0.0s\n",
      "[CV 1/5] END ...........................C=0.01, gamma=0.0001; total time=   0.0s\n",
      "[CV 2/5] END ...........................C=0.01, gamma=0.0001; total time=   0.0s\n",
      "[CV 3/5] END ...........................C=0.01, gamma=0.0001; total time=   0.0s\n",
      "[CV 4/5] END ...........................C=0.01, gamma=0.0001; total time=   0.0s\n",
      "[CV 5/5] END ...........................C=0.01, gamma=0.0001; total time=   0.0s\n",
      "[CV 1/5] END ................................C=0.01, gamma=5; total time=   0.0s\n",
      "[CV 2/5] END ................................C=0.01, gamma=5; total time=   0.0s\n",
      "[CV 3/5] END ................................C=0.01, gamma=5; total time=   0.0s\n",
      "[CV 4/5] END ................................C=0.01, gamma=5; total time=   0.0s\n",
      "[CV 5/5] END ................................C=0.01, gamma=5; total time=   0.0s\n",
      "[CV 1/5] END .................................C=0.1, gamma=1; total time=   0.0s\n",
      "[CV 2/5] END .................................C=0.1, gamma=1; total time=   0.0s\n",
      "[CV 3/5] END .................................C=0.1, gamma=1; total time=   0.0s\n",
      "[CV 4/5] END .................................C=0.1, gamma=1; total time=   0.0s\n",
      "[CV 5/5] END .................................C=0.1, gamma=1; total time=   0.0s\n",
      "[CV 1/5] END ...............................C=0.1, gamma=0.1; total time=   0.0s\n",
      "[CV 2/5] END ...............................C=0.1, gamma=0.1; total time=   0.0s\n",
      "[CV 3/5] END ...............................C=0.1, gamma=0.1; total time=   0.0s\n",
      "[CV 4/5] END ...............................C=0.1, gamma=0.1; total time=   0.0s\n",
      "[CV 5/5] END ...............................C=0.1, gamma=0.1; total time=   0.0s\n",
      "[CV 1/5] END ..............................C=0.1, gamma=0.01; total time=   0.0s\n",
      "[CV 2/5] END ..............................C=0.1, gamma=0.01; total time=   0.0s\n",
      "[CV 3/5] END ..............................C=0.1, gamma=0.01; total time=   0.0s\n",
      "[CV 4/5] END ..............................C=0.1, gamma=0.01; total time=   0.0s\n",
      "[CV 5/5] END ..............................C=0.1, gamma=0.01; total time=   0.0s\n",
      "[CV 1/5] END .............................C=0.1, gamma=0.001; total time=   0.0s\n",
      "[CV 2/5] END .............................C=0.1, gamma=0.001; total time=   0.0s\n",
      "[CV 3/5] END .............................C=0.1, gamma=0.001; total time=   0.0s\n",
      "[CV 4/5] END .............................C=0.1, gamma=0.001; total time=   0.0s\n",
      "[CV 5/5] END .............................C=0.1, gamma=0.001; total time=   0.0s\n",
      "[CV 1/5] END ............................C=0.1, gamma=0.0001; total time=   0.0s\n",
      "[CV 2/5] END ............................C=0.1, gamma=0.0001; total time=   0.0s\n",
      "[CV 3/5] END ............................C=0.1, gamma=0.0001; total time=   0.0s\n",
      "[CV 4/5] END ............................C=0.1, gamma=0.0001; total time=   0.0s\n",
      "[CV 5/5] END ............................C=0.1, gamma=0.0001; total time=   0.0s\n",
      "[CV 1/5] END .................................C=0.1, gamma=5; total time=   0.0s\n",
      "[CV 2/5] END .................................C=0.1, gamma=5; total time=   0.0s\n",
      "[CV 3/5] END .................................C=0.1, gamma=5; total time=   0.0s\n",
      "[CV 4/5] END .................................C=0.1, gamma=5; total time=   0.0s\n",
      "[CV 5/5] END .................................C=0.1, gamma=5; total time=   0.0s\n",
      "[CV 1/5] END ...................................C=1, gamma=1; total time=   0.0s\n",
      "[CV 2/5] END ...................................C=1, gamma=1; total time=   0.0s\n",
      "[CV 3/5] END ...................................C=1, gamma=1; total time=   0.0s\n",
      "[CV 4/5] END ...................................C=1, gamma=1; total time=   0.0s\n",
      "[CV 5/5] END ...................................C=1, gamma=1; total time=   0.0s\n",
      "[CV 1/5] END .................................C=1, gamma=0.1; total time=   0.0s\n",
      "[CV 2/5] END .................................C=1, gamma=0.1; total time=   0.0s\n",
      "[CV 3/5] END .................................C=1, gamma=0.1; total time=   0.0s\n",
      "[CV 4/5] END .................................C=1, gamma=0.1; total time=   0.0s\n",
      "[CV 5/5] END .................................C=1, gamma=0.1; total time=   0.0s\n",
      "[CV 1/5] END ................................C=1, gamma=0.01; total time=   0.0s\n",
      "[CV 2/5] END ................................C=1, gamma=0.01; total time=   0.0s\n",
      "[CV 3/5] END ................................C=1, gamma=0.01; total time=   0.0s\n",
      "[CV 4/5] END ................................C=1, gamma=0.01; total time=   0.0s\n",
      "[CV 5/5] END ................................C=1, gamma=0.01; total time=   0.0s\n",
      "[CV 1/5] END ...............................C=1, gamma=0.001; total time=   0.0s\n",
      "[CV 2/5] END ...............................C=1, gamma=0.001; total time=   0.0s\n",
      "[CV 3/5] END ...............................C=1, gamma=0.001; total time=   0.0s\n",
      "[CV 4/5] END ...............................C=1, gamma=0.001; total time=   0.0s\n",
      "[CV 5/5] END ...............................C=1, gamma=0.001; total time=   0.0s\n",
      "[CV 1/5] END ..............................C=1, gamma=0.0001; total time=   0.0s\n",
      "[CV 2/5] END ..............................C=1, gamma=0.0001; total time=   0.0s\n",
      "[CV 3/5] END ..............................C=1, gamma=0.0001; total time=   0.0s\n",
      "[CV 4/5] END ..............................C=1, gamma=0.0001; total time=   0.0s\n",
      "[CV 5/5] END ..............................C=1, gamma=0.0001; total time=   0.0s\n",
      "[CV 1/5] END ...................................C=1, gamma=5; total time=   0.0s\n",
      "[CV 2/5] END ...................................C=1, gamma=5; total time=   0.0s\n",
      "[CV 3/5] END ...................................C=1, gamma=5; total time=   0.0s\n",
      "[CV 4/5] END ...................................C=1, gamma=5; total time=   0.0s\n",
      "[CV 5/5] END ...................................C=1, gamma=5; total time=   0.0s\n",
      "[CV 1/5] END ..................................C=10, gamma=1; total time=   0.0s\n",
      "[CV 2/5] END ..................................C=10, gamma=1; total time=   0.0s\n",
      "[CV 3/5] END ..................................C=10, gamma=1; total time=   0.0s\n",
      "[CV 4/5] END ..................................C=10, gamma=1; total time=   0.0s\n",
      "[CV 5/5] END ..................................C=10, gamma=1; total time=   0.0s\n",
      "[CV 1/5] END ................................C=10, gamma=0.1; total time=   0.0s\n",
      "[CV 2/5] END ................................C=10, gamma=0.1; total time=   0.0s\n",
      "[CV 3/5] END ................................C=10, gamma=0.1; total time=   0.0s\n",
      "[CV 4/5] END ................................C=10, gamma=0.1; total time=   0.0s\n",
      "[CV 5/5] END ................................C=10, gamma=0.1; total time=   0.0s\n",
      "[CV 1/5] END ...............................C=10, gamma=0.01; total time=   0.0s\n",
      "[CV 2/5] END ...............................C=10, gamma=0.01; total time=   0.0s\n",
      "[CV 3/5] END ...............................C=10, gamma=0.01; total time=   0.0s\n"
     ]
    },
    {
     "name": "stdout",
     "output_type": "stream",
     "text": [
      "[CV 4/5] END ...............................C=10, gamma=0.01; total time=   0.0s\n",
      "[CV 5/5] END ...............................C=10, gamma=0.01; total time=   0.0s\n",
      "[CV 1/5] END ..............................C=10, gamma=0.001; total time=   0.0s\n",
      "[CV 2/5] END ..............................C=10, gamma=0.001; total time=   0.0s\n",
      "[CV 3/5] END ..............................C=10, gamma=0.001; total time=   0.0s\n",
      "[CV 4/5] END ..............................C=10, gamma=0.001; total time=   0.0s\n",
      "[CV 5/5] END ..............................C=10, gamma=0.001; total time=   0.0s\n",
      "[CV 1/5] END .............................C=10, gamma=0.0001; total time=   0.0s\n",
      "[CV 2/5] END .............................C=10, gamma=0.0001; total time=   0.0s\n",
      "[CV 3/5] END .............................C=10, gamma=0.0001; total time=   0.0s\n",
      "[CV 4/5] END .............................C=10, gamma=0.0001; total time=   0.0s\n",
      "[CV 5/5] END .............................C=10, gamma=0.0001; total time=   0.0s\n",
      "[CV 1/5] END ..................................C=10, gamma=5; total time=   0.0s\n",
      "[CV 2/5] END ..................................C=10, gamma=5; total time=   0.0s\n",
      "[CV 3/5] END ..................................C=10, gamma=5; total time=   0.0s\n",
      "[CV 4/5] END ..................................C=10, gamma=5; total time=   0.0s\n",
      "[CV 5/5] END ..................................C=10, gamma=5; total time=   0.0s\n",
      "[CV 1/5] END ...................................C=5, gamma=1; total time=   0.0s\n",
      "[CV 2/5] END ...................................C=5, gamma=1; total time=   0.0s\n",
      "[CV 3/5] END ...................................C=5, gamma=1; total time=   0.0s\n",
      "[CV 4/5] END ...................................C=5, gamma=1; total time=   0.0s\n",
      "[CV 5/5] END ...................................C=5, gamma=1; total time=   0.0s\n",
      "[CV 1/5] END .................................C=5, gamma=0.1; total time=   0.0s\n",
      "[CV 2/5] END .................................C=5, gamma=0.1; total time=   0.0s\n",
      "[CV 3/5] END .................................C=5, gamma=0.1; total time=   0.0s\n",
      "[CV 4/5] END .................................C=5, gamma=0.1; total time=   0.0s\n",
      "[CV 5/5] END .................................C=5, gamma=0.1; total time=   0.0s\n",
      "[CV 1/5] END ................................C=5, gamma=0.01; total time=   0.0s\n",
      "[CV 2/5] END ................................C=5, gamma=0.01; total time=   0.0s\n",
      "[CV 3/5] END ................................C=5, gamma=0.01; total time=   0.0s\n",
      "[CV 4/5] END ................................C=5, gamma=0.01; total time=   0.0s\n",
      "[CV 5/5] END ................................C=5, gamma=0.01; total time=   0.0s\n",
      "[CV 1/5] END ...............................C=5, gamma=0.001; total time=   0.0s\n",
      "[CV 2/5] END ...............................C=5, gamma=0.001; total time=   0.0s\n",
      "[CV 3/5] END ...............................C=5, gamma=0.001; total time=   0.0s\n",
      "[CV 4/5] END ...............................C=5, gamma=0.001; total time=   0.0s\n",
      "[CV 5/5] END ...............................C=5, gamma=0.001; total time=   0.0s\n",
      "[CV 1/5] END ..............................C=5, gamma=0.0001; total time=   0.0s\n",
      "[CV 2/5] END ..............................C=5, gamma=0.0001; total time=   0.0s\n",
      "[CV 3/5] END ..............................C=5, gamma=0.0001; total time=   0.0s\n",
      "[CV 4/5] END ..............................C=5, gamma=0.0001; total time=   0.0s\n",
      "[CV 5/5] END ..............................C=5, gamma=0.0001; total time=   0.0s\n",
      "[CV 1/5] END ...................................C=5, gamma=5; total time=   0.0s\n",
      "[CV 2/5] END ...................................C=5, gamma=5; total time=   0.0s\n",
      "[CV 3/5] END ...................................C=5, gamma=5; total time=   0.0s\n",
      "[CV 4/5] END ...................................C=5, gamma=5; total time=   0.0s\n",
      "[CV 5/5] END ...................................C=5, gamma=5; total time=   0.0s\n",
      "[CV 1/5] END ..................................C=15, gamma=1; total time=   0.0s\n",
      "[CV 2/5] END ..................................C=15, gamma=1; total time=   0.0s\n",
      "[CV 3/5] END ..................................C=15, gamma=1; total time=   0.0s\n",
      "[CV 4/5] END ..................................C=15, gamma=1; total time=   0.0s\n",
      "[CV 5/5] END ..................................C=15, gamma=1; total time=   0.0s\n",
      "[CV 1/5] END ................................C=15, gamma=0.1; total time=   0.0s\n",
      "[CV 2/5] END ................................C=15, gamma=0.1; total time=   0.0s\n",
      "[CV 3/5] END ................................C=15, gamma=0.1; total time=   0.0s\n",
      "[CV 4/5] END ................................C=15, gamma=0.1; total time=   0.0s\n",
      "[CV 5/5] END ................................C=15, gamma=0.1; total time=   0.0s\n",
      "[CV 1/5] END ...............................C=15, gamma=0.01; total time=   0.0s\n",
      "[CV 2/5] END ...............................C=15, gamma=0.01; total time=   0.0s\n",
      "[CV 3/5] END ...............................C=15, gamma=0.01; total time=   0.0s\n",
      "[CV 4/5] END ...............................C=15, gamma=0.01; total time=   0.0s\n",
      "[CV 5/5] END ...............................C=15, gamma=0.01; total time=   0.0s\n",
      "[CV 1/5] END ..............................C=15, gamma=0.001; total time=   0.0s\n",
      "[CV 2/5] END ..............................C=15, gamma=0.001; total time=   0.0s\n",
      "[CV 3/5] END ..............................C=15, gamma=0.001; total time=   0.0s\n",
      "[CV 4/5] END ..............................C=15, gamma=0.001; total time=   0.0s\n",
      "[CV 5/5] END ..............................C=15, gamma=0.001; total time=   0.0s\n",
      "[CV 1/5] END .............................C=15, gamma=0.0001; total time=   0.0s\n",
      "[CV 2/5] END .............................C=15, gamma=0.0001; total time=   0.0s\n",
      "[CV 3/5] END .............................C=15, gamma=0.0001; total time=   0.0s\n",
      "[CV 4/5] END .............................C=15, gamma=0.0001; total time=   0.0s\n",
      "[CV 5/5] END .............................C=15, gamma=0.0001; total time=   0.0s\n",
      "[CV 1/5] END ..................................C=15, gamma=5; total time=   0.0s\n",
      "[CV 2/5] END ..................................C=15, gamma=5; total time=   0.0s\n",
      "[CV 3/5] END ..................................C=15, gamma=5; total time=   0.0s\n",
      "[CV 4/5] END ..................................C=15, gamma=5; total time=   0.0s\n",
      "[CV 5/5] END ..................................C=15, gamma=5; total time=   0.0s\n"
     ]
    },
    {
     "data": {
      "text/plain": [
       "0.8395522388059702"
      ]
     },
     "execution_count": 44,
     "metadata": {},
     "output_type": "execute_result"
    }
   ],
   "source": [
    "gs.fit(X_train, y_train)\n",
    "gs.score(X_test, y_test)"
   ]
  },
  {
   "cell_type": "code",
   "execution_count": 45,
   "id": "labeled-cleveland",
   "metadata": {},
   "outputs": [
    {
     "data": {
      "text/plain": [
       "{'C': 0.1, 'gamma': 1}"
      ]
     },
     "execution_count": 45,
     "metadata": {},
     "output_type": "execute_result"
    }
   ],
   "source": [
    "gs.best_params_"
   ]
  },
  {
   "cell_type": "code",
   "execution_count": 46,
   "id": "respected-piano",
   "metadata": {},
   "outputs": [],
   "source": [
    "gs_preds = gs.predict(X_test)"
   ]
  },
  {
   "cell_type": "code",
   "execution_count": 47,
   "id": "exact-concert",
   "metadata": {},
   "outputs": [
    {
     "name": "stdout",
     "output_type": "stream",
     "text": [
      "              precision    recall  f1-score   support\n",
      "\n",
      "           0       0.82      0.95      0.88       167\n",
      "           1       0.88      0.66      0.76       101\n",
      "\n",
      "    accuracy                           0.84       268\n",
      "   macro avg       0.85      0.80      0.82       268\n",
      "weighted avg       0.85      0.84      0.83       268\n",
      "\n"
     ]
    }
   ],
   "source": [
    "print(classification_report(y_test, gs_preds))"
   ]
  },
  {
   "cell_type": "code",
   "execution_count": 48,
   "id": "nearby-commercial",
   "metadata": {},
   "outputs": [],
   "source": [
    "from tensorflow.keras.models import Sequential\n",
    "from tensorflow.keras.layers import Dense, Dropout"
   ]
  },
  {
   "cell_type": "code",
   "execution_count": 49,
   "id": "disciplinary-annex",
   "metadata": {},
   "outputs": [],
   "source": [
    "X_train = X_train.values\n",
    "X_test = X_test.values\n",
    "y_train = y_train.values\n",
    "y_test = y_test.values"
   ]
  },
  {
   "cell_type": "code",
   "execution_count": 50,
   "id": "fitted-configuration",
   "metadata": {},
   "outputs": [],
   "source": [
    "model = Sequential()\n",
    "model.add(Dense(17, activation='relu'))\n",
    "model.add(Dropout(0.2))\n",
    "model.add(Dense(17, activation='relu'))\n",
    "model.add(Dropout(0.2))\n",
    "model.add(Dense(17, activation='relu'))\n",
    "model.add(Dropout(0.2))\n",
    "model.add(Dense(17, activation='relu'))\n",
    "model.add(Dropout(0.2))\n",
    "model.add(Dense(17, activation='relu'))\n",
    "model.add(Dropout(0.2))\n",
    "\n",
    "model.add(Dense(1, activation='sigmoid'))\n",
    "\n",
    "model.compile(optimizer='rmsprop', loss='binary_crossentropy')"
   ]
  },
  {
   "cell_type": "code",
   "execution_count": 51,
   "id": "confidential-shirt",
   "metadata": {},
   "outputs": [],
   "source": [
    "from tensorflow.keras.callbacks import EarlyStopping\n",
    "early_stop = EarlyStopping(monitor='val_loss', verbose=1, patience=10)"
   ]
  },
  {
   "cell_type": "code",
   "execution_count": 52,
   "id": "necessary-tract",
   "metadata": {},
   "outputs": [
    {
     "name": "stdout",
     "output_type": "stream",
     "text": [
      "Epoch 1/250\n",
      "20/20 [==============================] - 2s 64ms/step - loss: 0.7438 - val_loss: 0.6862\n",
      "Epoch 2/250\n",
      "20/20 [==============================] - 0s 4ms/step - loss: 0.6895 - val_loss: 0.6727\n",
      "Epoch 3/250\n",
      "20/20 [==============================] - 0s 3ms/step - loss: 0.6759 - val_loss: 0.6571\n",
      "Epoch 4/250\n",
      "20/20 [==============================] - 0s 3ms/step - loss: 0.6502 - val_loss: 0.6121\n",
      "Epoch 5/250\n",
      "20/20 [==============================] - 0s 3ms/step - loss: 0.6257 - val_loss: 0.5616\n",
      "Epoch 6/250\n",
      "20/20 [==============================] - 0s 3ms/step - loss: 0.6170 - val_loss: 0.5306\n",
      "Epoch 7/250\n",
      "20/20 [==============================] - 0s 4ms/step - loss: 0.5682 - val_loss: 0.4997\n",
      "Epoch 8/250\n",
      "20/20 [==============================] - 0s 3ms/step - loss: 0.5432 - val_loss: 0.4831\n",
      "Epoch 9/250\n",
      "20/20 [==============================] - 0s 3ms/step - loss: 0.5574 - val_loss: 0.4715\n",
      "Epoch 10/250\n",
      "20/20 [==============================] - 0s 3ms/step - loss: 0.5524 - val_loss: 0.4677\n",
      "Epoch 11/250\n",
      "20/20 [==============================] - 0s 3ms/step - loss: 0.5204 - val_loss: 0.4576\n",
      "Epoch 12/250\n",
      "20/20 [==============================] - 0s 3ms/step - loss: 0.5233 - val_loss: 0.4542\n",
      "Epoch 13/250\n",
      "20/20 [==============================] - 0s 3ms/step - loss: 0.4951 - val_loss: 0.4494\n",
      "Epoch 14/250\n",
      "20/20 [==============================] - 0s 3ms/step - loss: 0.5195 - val_loss: 0.4392\n",
      "Epoch 15/250\n",
      "20/20 [==============================] - 0s 3ms/step - loss: 0.5227 - val_loss: 0.4384\n",
      "Epoch 16/250\n",
      "20/20 [==============================] - 0s 3ms/step - loss: 0.5233 - val_loss: 0.4407\n",
      "Epoch 17/250\n",
      "20/20 [==============================] - 0s 3ms/step - loss: 0.5018 - val_loss: 0.4349\n",
      "Epoch 18/250\n",
      "20/20 [==============================] - 0s 3ms/step - loss: 0.4781 - val_loss: 0.4296\n",
      "Epoch 19/250\n",
      "20/20 [==============================] - 0s 3ms/step - loss: 0.5566 - val_loss: 0.4297\n",
      "Epoch 20/250\n",
      "20/20 [==============================] - 0s 3ms/step - loss: 0.4935 - val_loss: 0.4286\n",
      "Epoch 21/250\n",
      "20/20 [==============================] - 0s 3ms/step - loss: 0.4806 - val_loss: 0.4270\n",
      "Epoch 22/250\n",
      "20/20 [==============================] - 0s 3ms/step - loss: 0.4717 - val_loss: 0.4287\n",
      "Epoch 23/250\n",
      "20/20 [==============================] - 0s 3ms/step - loss: 0.4962 - val_loss: 0.4300\n",
      "Epoch 24/250\n",
      "20/20 [==============================] - 0s 3ms/step - loss: 0.4835 - val_loss: 0.4268\n",
      "Epoch 25/250\n",
      "20/20 [==============================] - 0s 3ms/step - loss: 0.4911 - val_loss: 0.4226\n",
      "Epoch 26/250\n",
      "20/20 [==============================] - 0s 3ms/step - loss: 0.4805 - val_loss: 0.4236\n",
      "Epoch 27/250\n",
      "20/20 [==============================] - 0s 3ms/step - loss: 0.4846 - val_loss: 0.4202\n",
      "Epoch 28/250\n",
      "20/20 [==============================] - 0s 3ms/step - loss: 0.4552 - val_loss: 0.4171\n",
      "Epoch 29/250\n",
      "20/20 [==============================] - 0s 3ms/step - loss: 0.4870 - val_loss: 0.4200\n",
      "Epoch 30/250\n",
      "20/20 [==============================] - 0s 3ms/step - loss: 0.4228 - val_loss: 0.4188\n",
      "Epoch 31/250\n",
      "20/20 [==============================] - 0s 3ms/step - loss: 0.4716 - val_loss: 0.4179\n",
      "Epoch 32/250\n",
      "20/20 [==============================] - 0s 3ms/step - loss: 0.4653 - val_loss: 0.4194\n",
      "Epoch 33/250\n",
      "20/20 [==============================] - 0s 3ms/step - loss: 0.4862 - val_loss: 0.4158\n",
      "Epoch 34/250\n",
      "20/20 [==============================] - 0s 3ms/step - loss: 0.4813 - val_loss: 0.4149\n",
      "Epoch 35/250\n",
      "20/20 [==============================] - 0s 3ms/step - loss: 0.4745 - val_loss: 0.4178\n",
      "Epoch 36/250\n",
      "20/20 [==============================] - 0s 3ms/step - loss: 0.4700 - val_loss: 0.4150\n",
      "Epoch 37/250\n",
      "20/20 [==============================] - 0s 3ms/step - loss: 0.4839 - val_loss: 0.4148\n",
      "Epoch 38/250\n",
      "20/20 [==============================] - 0s 3ms/step - loss: 0.4501 - val_loss: 0.4170\n",
      "Epoch 39/250\n",
      "20/20 [==============================] - 0s 3ms/step - loss: 0.4472 - val_loss: 0.4142\n",
      "Epoch 40/250\n",
      "20/20 [==============================] - 0s 3ms/step - loss: 0.4439 - val_loss: 0.4157\n",
      "Epoch 41/250\n",
      "20/20 [==============================] - 0s 3ms/step - loss: 0.4628 - val_loss: 0.4144\n",
      "Epoch 42/250\n",
      "20/20 [==============================] - 0s 3ms/step - loss: 0.4250 - val_loss: 0.4134\n",
      "Epoch 43/250\n",
      "20/20 [==============================] - 0s 3ms/step - loss: 0.4416 - val_loss: 0.4132\n",
      "Epoch 44/250\n",
      "20/20 [==============================] - 0s 3ms/step - loss: 0.5655 - val_loss: 0.4106\n",
      "Epoch 45/250\n",
      "20/20 [==============================] - 0s 3ms/step - loss: 0.4522 - val_loss: 0.4132\n",
      "Epoch 46/250\n",
      "20/20 [==============================] - 0s 3ms/step - loss: 0.4428 - val_loss: 0.4141\n",
      "Epoch 47/250\n",
      "20/20 [==============================] - 0s 3ms/step - loss: 0.4081 - val_loss: 0.4114\n",
      "Epoch 48/250\n",
      "20/20 [==============================] - 0s 3ms/step - loss: 0.4576 - val_loss: 0.4105\n",
      "Epoch 49/250\n",
      "20/20 [==============================] - 0s 3ms/step - loss: 0.4468 - val_loss: 0.4106\n",
      "Epoch 50/250\n",
      "20/20 [==============================] - 0s 3ms/step - loss: 0.4145 - val_loss: 0.4104\n",
      "Epoch 51/250\n",
      "20/20 [==============================] - 0s 3ms/step - loss: 0.4325 - val_loss: 0.4094\n",
      "Epoch 52/250\n",
      "20/20 [==============================] - ETA: 0s - loss: 0.301 - 0s 3ms/step - loss: 0.4185 - val_loss: 0.4125\n",
      "Epoch 53/250\n",
      "20/20 [==============================] - 0s 3ms/step - loss: 0.4423 - val_loss: 0.4095\n",
      "Epoch 54/250\n",
      "20/20 [==============================] - 0s 3ms/step - loss: 0.4706 - val_loss: 0.4128\n",
      "Epoch 55/250\n",
      "20/20 [==============================] - 0s 3ms/step - loss: 0.4569 - val_loss: 0.4129\n",
      "Epoch 56/250\n",
      "20/20 [==============================] - 0s 3ms/step - loss: 0.5042 - val_loss: 0.4118\n",
      "Epoch 57/250\n",
      "20/20 [==============================] - 0s 3ms/step - loss: 0.4771 - val_loss: 0.4095\n",
      "Epoch 58/250\n",
      "20/20 [==============================] - 0s 3ms/step - loss: 0.4159 - val_loss: 0.4151\n",
      "Epoch 59/250\n",
      "20/20 [==============================] - 0s 3ms/step - loss: 0.4595 - val_loss: 0.4110\n",
      "Epoch 60/250\n",
      "20/20 [==============================] - 0s 4ms/step - loss: 0.4130 - val_loss: 0.4121\n",
      "Epoch 61/250\n",
      "20/20 [==============================] - 0s 3ms/step - loss: 0.4019 - val_loss: 0.4101\n",
      "Epoch 00061: early stopping\n"
     ]
    },
    {
     "data": {
      "text/plain": [
       "<tensorflow.python.keras.callbacks.History at 0x1769a5d79d0>"
      ]
     },
     "execution_count": 52,
     "metadata": {},
     "output_type": "execute_result"
    }
   ],
   "source": [
    "model.fit(x=X_train, y=y_train, epochs=250, callbacks=[early_stop], validation_data=(X_test, y_test))"
   ]
  },
  {
   "cell_type": "code",
   "execution_count": 53,
   "id": "particular-excitement",
   "metadata": {},
   "outputs": [],
   "source": [
    "losses = pd.DataFrame(model.history.history)"
   ]
  },
  {
   "cell_type": "code",
   "execution_count": 54,
   "id": "adjustable-journal",
   "metadata": {},
   "outputs": [
    {
     "data": {
      "text/plain": [
       "<AxesSubplot:>"
      ]
     },
     "execution_count": 54,
     "metadata": {},
     "output_type": "execute_result"
    },
    {
     "data": {
      "image/png": "[encoded data removed]",
      "text/plain": [
       "<Figure size 432x288 with 1 Axes>"
      ]
     },
     "metadata": {
      "needs_background": "light"
     },
     "output_type": "display_data"
    }
   ],
   "source": [
    "losses.plot()"
   ]
  },
  {
   "cell_type": "code",
   "execution_count": 55,
   "id": "adequate-delhi",
   "metadata": {},
   "outputs": [],
   "source": [
    "ann_preds = (model.predict(X_test) > 0.5).astype(\"int32\")"
   ]
  },
  {
   "cell_type": "code",
   "execution_count": 56,
   "id": "standing-thread",
   "metadata": {},
   "outputs": [
    {
     "name": "stdout",
     "output_type": "stream",
     "text": [
      "Artificial Neural Network Classification Report - Titanic Dataset\n",
      "\n",
      "\n",
      "[[161   6]\n",
      " [ 39  62]]\n",
      "              precision    recall  f1-score   support\n",
      "\n",
      "           0       0.81      0.96      0.88       167\n",
      "           1       0.91      0.61      0.73       101\n",
      "\n",
      "    accuracy                           0.83       268\n",
      "   macro avg       0.86      0.79      0.81       268\n",
      "weighted avg       0.85      0.83      0.82       268\n",
      "\n"
     ]
    }
   ],
   "source": [
    "print('Artificial Neural Network Classification Report - Titanic Dataset')\n",
    "print('\\n')\n",
    "print(confusion_matrix(y_test, ann_preds))\n",
    "print(classification_report(y_test, ann_preds))"
   ]
  },
  {
   "cell_type": "code",
   "execution_count": 57,
   "id": "complicated-prisoner",
   "metadata": {},
   "outputs": [
    {
     "name": "stdout",
     "output_type": "stream",
     "text": [
      "Logistic Regression Classification Report - Titanic Dataset\n",
      "\n",
      "\n",
      "[[148  19]\n",
      " [ 26  75]]\n",
      "              precision    recall  f1-score   support\n",
      "\n",
      "           0       0.85      0.89      0.87       167\n",
      "           1       0.80      0.74      0.77       101\n",
      "\n",
      "    accuracy                           0.83       268\n",
      "   macro avg       0.82      0.81      0.82       268\n",
      "weighted avg       0.83      0.83      0.83       268\n",
      "\n"
     ]
    }
   ],
   "source": [
    "print('Logistic Regression Classification Report - Titanic Dataset')\n",
    "print('\\n')\n",
    "print(confusion_matrix(y_test, lr_preds))\n",
    "print(classification_report(y_test, lr_preds))"
   ]
  },
  {
   "cell_type": "code",
   "execution_count": 58,
   "id": "parliamentary-record",
   "metadata": {},
   "outputs": [
    {
     "name": "stdout",
     "output_type": "stream",
     "text": [
      "Random Forests Classification Report - Titanic Dataset\n",
      "\n",
      "\n",
      "[[143  24]\n",
      " [ 32  69]]\n",
      "              precision    recall  f1-score   support\n",
      "\n",
      "           0       0.82      0.86      0.84       167\n",
      "           1       0.74      0.68      0.71       101\n",
      "\n",
      "    accuracy                           0.79       268\n",
      "   macro avg       0.78      0.77      0.77       268\n",
      "weighted avg       0.79      0.79      0.79       268\n",
      "\n"
     ]
    }
   ],
   "source": [
    "print('Random Forests Classification Report - Titanic Dataset')\n",
    "print('\\n')\n",
    "print(confusion_matrix(y_test, rf_preds))\n",
    "print(classification_report(y_test, rf_preds))"
   ]
  },
  {
   "cell_type": "code",
   "execution_count": 59,
   "id": "cubic-reservation",
   "metadata": {},
   "outputs": [
    {
     "name": "stdout",
     "output_type": "stream",
     "text": [
      "Support Vector Machine Classifier\n",
      "[[164   3]\n",
      " [ 41  60]]\n",
      "              precision    recall  f1-score   support\n",
      "\n",
      "           0       0.80      0.98      0.88       167\n",
      "           1       0.95      0.59      0.73       101\n",
      "\n",
      "    accuracy                           0.84       268\n",
      "   macro avg       0.88      0.79      0.81       268\n",
      "weighted avg       0.86      0.84      0.83       268\n",
      "\n"
     ]
    }
   ],
   "source": [
    "print('Support Vector Machine Classifier')\n",
    "print(confusion_matrix(y_test, svm_preds))\n",
    "print(classification_report(y_test, svm_preds))"
   ]
  },
  {
   "cell_type": "code",
   "execution_count": 60,
   "id": "radical-agreement",
   "metadata": {},
   "outputs": [],
   "source": [
    "#Prepare test dataset for submission to Kaggle\n",
    "X_Val = pd.read_csv('../DATA/titanic/test.csv')\n",
    "X_Val['Last_name'] = X_Val['Name'].apply(lambda x: x.split(\",\")[0])\n",
    "X_Val['First_name'] = X_Val['Name'].apply(lambda x: x.split(\",\")[1])\n",
    "X_Val['Title'] = X_Val['First_name'].apply(lambda x: x.split(\".\")[0].strip())\n",
    "\n",
    "X_Val['Title_group'] = X_Val.apply(lambda x: group_title(x['Title']), axis=1)\n",
    "\n",
    "fillage = pd.DataFrame([])\n",
    "fillage['Age'] = X_Val.apply(lambda x: fill_age(x['Pclass'], x['Title'], x['Age']), axis=1)\n",
    "X_Val['Age'] = fillage['Age']\n",
    "X_Val.iloc[152, 8] = 12.46\n",
    "\n",
    "X_Val['Family_size'] = 1 + X_Val['SibSp'] + X_Val['Parch']\n",
    "X_Val = pd.merge(X_Val, group_ticket[['Ticket', 'Group_size']], how='inner', on='Ticket')\n",
    "X_Val = X_Val.drop('Cabin', axis=1)\n",
    "\n",
    "Submission = pd.DataFrame([])\n",
    "Submission['PassengerId'] = X_Val['PassengerId']\n",
    "\n",
    "X_Val = X_Val.drop(['Last_name','First_name','Name','Title','Ticket','PassengerId','Group_size','Family_size'],axis=1)\n",
    "\n",
    "X_Val = pd.get_dummies(X_Val, columns=['Sex','Embarked', 'Title_group','Pclass'], drop_first=True)\n",
    "\n",
    "X_Val['Title_group_Nobleman'] = 0\n",
    "\n",
    "X_Val = X_Val.reindex(columns=X.columns)"
   ]
  },
  {
   "cell_type": "code",
   "execution_count": 61,
   "id": "acute-funds",
   "metadata": {},
   "outputs": [
    {
     "name": "stdout",
     "output_type": "stream",
     "text": [
      "<class 'pandas.core.frame.DataFrame'>\n",
      "Int64Index: 418 entries, 0 to 417\n",
      "Data columns (total 17 columns):\n",
      " #   Column                  Non-Null Count  Dtype  \n",
      "---  ------                  --------------  -----  \n",
      " 0   Age                     418 non-null    float64\n",
      " 1   SibSp                   418 non-null    int64  \n",
      " 2   Parch                   418 non-null    int64  \n",
      " 3   Fare                    418 non-null    float64\n",
      " 4   Sex_male                418 non-null    uint8  \n",
      " 5   Embarked_Q              418 non-null    uint8  \n",
      " 6   Embarked_S              418 non-null    uint8  \n",
      " 7   Title_group_Master      418 non-null    uint8  \n",
      " 8   Title_group_Military    418 non-null    uint8  \n",
      " 9   Title_group_Miss        418 non-null    uint8  \n",
      " 10  Title_group_Mr          418 non-null    uint8  \n",
      " 11  Title_group_Mrs         418 non-null    uint8  \n",
      " 12  Title_group_Nobleman    418 non-null    int64  \n",
      " 13  Title_group_Noblewoman  418 non-null    uint8  \n",
      " 14  Title_group_Rev         418 non-null    uint8  \n",
      " 15  Pclass_2                418 non-null    uint8  \n",
      " 16  Pclass_3                418 non-null    uint8  \n",
      "dtypes: float64(2), int64(3), uint8(12)\n",
      "memory usage: 24.5 KB\n"
     ]
    }
   ],
   "source": [
    "X_Val.info()"
   ]
  },
  {
   "cell_type": "code",
   "execution_count": 62,
   "id": "convinced-muslim",
   "metadata": {},
   "outputs": [],
   "source": [
    "X_Val_ss = scaler.transform(X_Val[scale_features])\n",
    "X_Val_ss = pd.DataFrame(X_Val_ss, columns=scale_features, index=X_Val.index)\n",
    "X_Val = pd.concat([X_Val_ss, X_Val.drop(scale_features,axis=1)],axis=1)"
   ]
  },
  {
   "cell_type": "code",
   "execution_count": 63,
   "id": "running-lightning",
   "metadata": {},
   "outputs": [],
   "source": [
    "ann_preds2 = (model.predict(X_Val) > 0.5).astype(\"int32\")"
   ]
  },
  {
   "cell_type": "code",
   "execution_count": 64,
   "id": "preliminary-advance",
   "metadata": {},
   "outputs": [],
   "source": [
    "rf_preds2 = rfmodel.predict(X_Val)"
   ]
  },
  {
   "cell_type": "code",
   "execution_count": 65,
   "id": "operating-building",
   "metadata": {},
   "outputs": [],
   "source": [
    "svm_preds2 = svmodel.predict(X_Val)"
   ]
  },
  {
   "cell_type": "code",
   "execution_count": 66,
   "id": "complex-morgan",
   "metadata": {},
   "outputs": [],
   "source": [
    "rf_sub = pd.DataFrame([])\n",
    "rf_sub['PassengerId'] = Submission['PassengerId']\n",
    "rf_sub['Survived'] = rf_preds2"
   ]
  },
  {
   "cell_type": "code",
   "execution_count": 67,
   "id": "designing-consideration",
   "metadata": {},
   "outputs": [],
   "source": [
    "svm_sub = pd.DataFrame([])\n",
    "svm_sub['PassengerId'] = Submission['PassengerId']\n",
    "svm_sub['Survived'] = svm_preds2"
   ]
  },
  {
   "cell_type": "code",
   "execution_count": 68,
   "id": "enclosed-medicare",
   "metadata": {},
   "outputs": [],
   "source": [
    "rf_sub.to_csv(r'C:\\Users\\elber\\Desktop\\RF_predictions.csv',index=False)"
   ]
  },
  {
   "cell_type": "code",
   "execution_count": 69,
   "id": "touched-colleague",
   "metadata": {},
   "outputs": [],
   "source": [
    "Submission['Survived'] = ann_preds2\n",
    "Submission.to_csv(r'C:\\Users\\elber\\Desktop\\Titanic_submission.csv',index=False)"
   ]
  },
  {
   "cell_type": "code",
   "execution_count": 70,
   "id": "sharing-mumbai",
   "metadata": {},
   "outputs": [],
   "source": [
    "svm_sub.to_csv(r'C:\\Users\\elber\\Desktop\\SVM_predictions.csv',index=False)"
   ]
  }
 ],
 "metadata": {
  "kernelspec": {
   "display_name": "Python 3",
   "language": "python",
   "name": "python3"
  },
  "language_info": {
   "codemirror_mode": {
    "name": "ipython",
    "version": 3
   },
   "file_extension": ".py",
   "mimetype": "text/x-python",
   "name": "python",
   "nbconvert_exporter": "python",
   "pygments_lexer": "ipython3",
   "version": "3.8.8"
  }
 },
 "nbformat": 4,
 "nbformat_minor": 5
}
